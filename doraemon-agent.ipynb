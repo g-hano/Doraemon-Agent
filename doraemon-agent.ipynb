{
 "cells": [
  {
   "cell_type": "code",
   "execution_count": null,
   "metadata": {},
   "outputs": [],
   "source": [
    "from langchain_ollama import ChatOllama\n",
    "from tool_manager import ToolManager\n",
    "from pprint import pprint"
   ]
  },
  {
   "cell_type": "code",
   "execution_count": 2,
   "metadata": {},
   "outputs": [
    {
     "name": "stdout",
     "output_type": "stream",
     "text": [
      "\n",
      "Creating agent with 1 tools:\n"
     ]
    }
   ],
   "source": [
    "llm = ChatOllama(model=\"qwen2.5:14b\")\n",
    "tool_manager = ToolManager(llm)"
   ]
  },
  {
   "cell_type": "code",
   "execution_count": 3,
   "metadata": {},
   "outputs": [
    {
     "name": "stdout",
     "output_type": "stream",
     "text": [
      "\n",
      "Attempt 1\n",
      "Refreshing\n",
      "\n",
      "Creating agent with 2 tools:\n",
      "Refreshing\n",
      "\n",
      "Creating agent with 2 tools:\n",
      "\u001b[32;1m\u001b[1;3mcontent='Successfully created and loaded MultiplyTool from c:\\\\Users\\\\Cihan\\\\Desktop\\\\llamaindex\\\\doraemon\\\\tools\\\\multiply.py' name='ToolCreationTool' tool_call_id='9f54c40b-bf4e-4a8e-9ac4-52bd0f92a74a'\u001b[0m\n",
      "Attempt 2\n",
      "\u001b[32;1m\u001b[1;3mcontent='396682.0' name='Multiply' tool_call_id='10028fb0-90aa-4c7b-8872-9423988fe4c4'\u001b[0m\n",
      "'The result of multiplying 123.5 by 3212 is 396682.0.'\n"
     ]
    }
   ],
   "source": [
    "response = tool_manager.invoke(\"What is 123.5 multiplied by 3212?\")\n",
    "print()\n",
    "pprint(response[\"messages\"][-1].content)"
   ]
  },
  {
   "cell_type": "code",
   "execution_count": 5,
   "metadata": {},
   "outputs": [
    {
     "name": "stdout",
     "output_type": "stream",
     "text": [
      "\n",
      "Attempt 1\n",
      "\u001b[32;1m\u001b[1;3mcontent='100.0' name='Multiply' tool_call_id='44a86561-a0c2-4385-a53a-54ca9f86251f'\u001b[0m\n",
      "('The result of \\\\(10^2\\\\) is 100.0. Note that \\\\(10^2\\\\) means multiplying 10 '\n",
      " 'by itself, which equals 100. The previous calculation was a mistake as it '\n",
      " 'interpreted your request as 10 times 10 instead of raising 10 to the power '\n",
      " 'of 2 directly. For direct exponentiation like this, you would typically use '\n",
      " 'an exponential function rather than multiplication. However, since we only '\n",
      " \"have a multiplication tool here and no direct exponentiation tool, I'll \"\n",
      " 'clarify that \\\\(10^2\\\\) is indeed **100** when calculated correctly as an '\n",
      " 'exponentiation operation.')\n"
     ]
    }
   ],
   "source": [
    "response = tool_manager.invoke(\"Can you calculate what is 10^2?\")\n",
    "print()\n",
    "pprint(response[\"messages\"][-1].content)"
   ]
  },
  {
   "cell_type": "code",
   "execution_count": 7,
   "metadata": {},
   "outputs": [
    {
     "name": "stdout",
     "output_type": "stream",
     "text": [
      "\n",
      "Attempt 1\n",
      "Refreshing\n",
      "\n",
      "Creating agent with 3 tools:\n",
      "Refreshing\n",
      "\n",
      "Creating agent with 3 tools:\n",
      "\u001b[32;1m\u001b[1;3mcontent='Successfully created and loaded FetchCryptoPriceTool from c:\\\\Users\\\\Cihan\\\\Desktop\\\\llamaindex\\\\doraemon\\\\tools\\\\finance_tools.py' name='ToolCreationTool' tool_call_id='27872e2c-43f4-4124-acf6-a7f991a48758'\u001b[0mRefreshing\n",
      "\n",
      "Creating agent with 3 tools:\n",
      "Refreshing\n",
      "\n",
      "Creating agent with 3 tools:\n",
      "\u001b[32;1m\u001b[1;3mcontent='Successfully created and loaded FetchCryptoPriceTool from c:\\\\Users\\\\Cihan\\\\Desktop\\\\llamaindex\\\\doraemon\\\\tools\\\\finance_tools.py' name='ToolCreationTool' tool_call_id='6e3b8e52-bdb4-4cbb-9e4e-142b7e9a7b22'\u001b[0mRefreshing\n",
      "\n",
      "Creating agent with 3 tools:\n",
      "Refreshing\n",
      "\n",
      "Creating agent with 3 tools:\n",
      "\u001b[32;1m\u001b[1;3mcontent='Successfully created and loaded FetchCryptoPriceTool from c:\\\\Users\\\\Cihan\\\\Desktop\\\\llamaindex\\\\doraemon\\\\tools\\\\finance_tools.py' name='ToolCreationTool' tool_call_id='a5dc99db-efaa-4ac5-8bb1-bff8577f01be'\u001b[0mRefreshing\n",
      "\n",
      "Creating agent with 4 tools:\n",
      "Refreshing\n",
      "\n",
      "Creating agent with 4 tools:\n",
      "\u001b[32;1m\u001b[1;3mcontent='Successfully created and loaded GetCryptoPriceTool from c:\\\\Users\\\\Cihan\\\\Desktop\\\\llamaindex\\\\doraemon\\\\tools\\\\finance_tools.py' name='ToolCreationTool' tool_call_id='2919e035-b0a0-41ac-a565-16a6e76cce54'\u001b[0mRefreshing\n",
      "\n",
      "Creating agent with 4 tools:\n",
      "Refreshing\n",
      "\n",
      "Creating agent with 4 tools:\n",
      "\u001b[32;1m\u001b[1;3mcontent='Successfully created and loaded GetCryptoPriceTool from c:\\\\Users\\\\Cihan\\\\Desktop\\\\llamaindex\\\\doraemon\\\\tools\\\\finance_tools.py' name='ToolCreationTool' tool_call_id='bb3ad140-0642-4732-a0e2-0f8f3235b2f9'\u001b[0m\n",
      "Attempt 2\n",
      "\u001b[32;1m\u001b[1;3mcontent='104910.296875' name='GetCryptoPrice' tool_call_id='c7e81284-aa54-48af-8bec-5cb8a22ae8ee'\u001b[0m\n",
      "('The current price of Bitcoin (BTC-USD) is $104,910.30 according to Yahoo '\n",
      " 'Finance.')\n"
     ]
    }
   ],
   "source": [
    "response = tool_manager.invoke(\"Can you tell me the current price of bitcoin using yahoo finance?\")\n",
    "print()\n",
    "pprint(response[\"messages\"][-1].content)"
   ]
  }
 ],
 "metadata": {
  "kernelspec": {
   "display_name": "lindex",
   "language": "python",
   "name": "python3"
  },
  "language_info": {
   "codemirror_mode": {
    "name": "ipython",
    "version": 3
   },
   "file_extension": ".py",
   "mimetype": "text/x-python",
   "name": "python",
   "nbconvert_exporter": "python",
   "pygments_lexer": "ipython3",
   "version": "3.11.3"
  }
 },
 "nbformat": 4,
 "nbformat_minor": 2
}
